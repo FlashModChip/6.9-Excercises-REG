{
 "cells": [
  {
   "cell_type": "code",
   "execution_count": 36,
   "id": "311ee1b7",
   "metadata": {},
   "outputs": [],
   "source": [
    "import numpy\n",
    "import matplotlib.pyplot as plot\n",
    "from scipy import stats\n",
    "import pandas as pd\n",
    "from sklearn.model_selection import train_test_split\n",
    "from sklearn.linear_model import LinearRegression"
   ]
  },
  {
   "cell_type": "markdown",
   "id": "b02045c3",
   "metadata": {},
   "source": [
    "Bei dem Datensatz handelt es sich um die Fahrzeit zur Arbeit. Dabei variiert die Fahrzeit je nach dem Zeitpunkt der Abfahrt."
   ]
  },
  {
   "cell_type": "code",
   "execution_count": 258,
   "id": "2908f787",
   "metadata": {},
   "outputs": [
    {
     "data": {
      "text/html": [
       "<div>\n",
       "<style scoped>\n",
       "    .dataframe tbody tr th:only-of-type {\n",
       "        vertical-align: middle;\n",
       "    }\n",
       "\n",
       "    .dataframe tbody tr th {\n",
       "        vertical-align: top;\n",
       "    }\n",
       "\n",
       "    .dataframe thead th {\n",
       "        text-align: right;\n",
       "    }\n",
       "</style>\n",
       "<table border=\"1\" class=\"dataframe\">\n",
       "  <thead>\n",
       "    <tr style=\"text-align: right;\">\n",
       "      <th></th>\n",
       "      <th>Startzeit</th>\n",
       "      <th>Ankunft</th>\n",
       "      <th>Fahrzeit</th>\n",
       "    </tr>\n",
       "  </thead>\n",
       "  <tbody>\n",
       "    <tr>\n",
       "      <th>0</th>\n",
       "      <td>06:58</td>\n",
       "      <td>07:39</td>\n",
       "      <td>00:41</td>\n",
       "    </tr>\n",
       "    <tr>\n",
       "      <th>1</th>\n",
       "      <td>06:42</td>\n",
       "      <td>07:31</td>\n",
       "      <td>00:49</td>\n",
       "    </tr>\n",
       "    <tr>\n",
       "      <th>2</th>\n",
       "      <td>06:45</td>\n",
       "      <td>07:32</td>\n",
       "      <td>00:47</td>\n",
       "    </tr>\n",
       "    <tr>\n",
       "      <th>3</th>\n",
       "      <td>06:21</td>\n",
       "      <td>07:04</td>\n",
       "      <td>00:43</td>\n",
       "    </tr>\n",
       "    <tr>\n",
       "      <th>4</th>\n",
       "      <td>06:43</td>\n",
       "      <td>07:32</td>\n",
       "      <td>00:49</td>\n",
       "    </tr>\n",
       "  </tbody>\n",
       "</table>\n",
       "</div>"
      ],
      "text/plain": [
       "  Startzeit Ankunft Fahrzeit\n",
       "0     06:58   07:39    00:41\n",
       "1     06:42   07:31    00:49\n",
       "2     06:45   07:32    00:47\n",
       "3     06:21   07:04    00:43\n",
       "4     06:43   07:32    00:49"
      ]
     },
     "execution_count": 258,
     "metadata": {},
     "output_type": "execute_result"
    }
   ],
   "source": [
    "df = pd.read_csv('Fahrzeit_sstd.csv',';')\n",
    "df.head()"
   ]
  },
  {
   "cell_type": "code",
   "execution_count": 259,
   "id": "57598791",
   "metadata": {},
   "outputs": [
    {
     "data": {
      "text/plain": [
       "Startzeit    object\n",
       "Ankunft      object\n",
       "Fahrzeit     object\n",
       "dtype: object"
      ]
     },
     "execution_count": 259,
     "metadata": {},
     "output_type": "execute_result"
    }
   ],
   "source": [
    "df.dtypes"
   ]
  },
  {
   "cell_type": "code",
   "execution_count": 260,
   "id": "147411b5",
   "metadata": {},
   "outputs": [],
   "source": [
    "df['Fahrzeit'] = df['Fahrzeit'].str.replace(\":\",\"\").astype(int)"
   ]
  },
  {
   "cell_type": "code",
   "execution_count": 261,
   "id": "5de8940b",
   "metadata": {},
   "outputs": [
    {
     "data": {
      "text/plain": [
       "Startzeit    object\n",
       "Ankunft      object\n",
       "Fahrzeit      int32\n",
       "dtype: object"
      ]
     },
     "execution_count": 261,
     "metadata": {},
     "output_type": "execute_result"
    }
   ],
   "source": [
    "df.dtypes"
   ]
  },
  {
   "cell_type": "markdown",
   "id": "2e7b51bf",
   "metadata": {},
   "source": [
    "Der Plot sieht ja völlig durcheinander aus. Das hängt mit der sortierung zusammen."
   ]
  },
  {
   "cell_type": "code",
   "execution_count": 262,
   "id": "f7688995",
   "metadata": {},
   "outputs": [
    {
     "name": "stdout",
     "output_type": "stream",
     "text": [
      "['06:58' '06:42' '06:45' '06:21' '06:43' '06:42' '06:41' '06:13' '07:01'\n",
      " '06:43' '06:36' '06:43' '06:52']\n",
      "[41 49 47 43 49 47 47 40 55 48 47 47 50]\n"
     ]
    },
    {
     "data": {
      "image/png": "[encoded data removed]",
      "text/plain": [
       "<Figure size 432x288 with 1 Axes>"
      ]
     },
     "metadata": {
      "needs_background": "light"
     },
     "output_type": "display_data"
    }
   ],
   "source": [
    "x = df.iloc[:, 0].values\n",
    "y = df.iloc[:, 2].values\n",
    "print(x)\n",
    "print(y)\n",
    "\n",
    "plot.plot(x, y)\n",
    "plot.show()"
   ]
  },
  {
   "cell_type": "code",
   "execution_count": 263,
   "id": "ecf5394e",
   "metadata": {},
   "outputs": [],
   "source": [
    "df = df.sort_values('Startzeit', ascending=True)"
   ]
  },
  {
   "cell_type": "markdown",
   "id": "3e128f4a",
   "metadata": {},
   "source": [
    "Nach dem Sortieren sieht das schon viel besser aus."
   ]
  },
  {
   "cell_type": "code",
   "execution_count": 264,
   "id": "dcb432f3",
   "metadata": {},
   "outputs": [
    {
     "name": "stdout",
     "output_type": "stream",
     "text": [
      "['06:13' '06:21' '06:36' '06:41' '06:42' '06:42' '06:43' '06:43' '06:43'\n",
      " '06:45' '06:52' '06:58' '07:01']\n",
      "[40 43 47 47 49 47 49 48 47 47 50 41 55]\n"
     ]
    },
    {
     "data": {
      "image/png": "[encoded data removed]",
      "text/plain": [
       "<Figure size 432x288 with 1 Axes>"
      ]
     },
     "metadata": {
      "needs_background": "light"
     },
     "output_type": "display_data"
    }
   ],
   "source": [
    "x = df.iloc[:, 0].values\n",
    "y = df.iloc[:, 2].values\n",
    "print(x)\n",
    "print(y)\n",
    "\n",
    "plot.plot(x, y)\n",
    "plot.show()"
   ]
  },
  {
   "cell_type": "code",
   "execution_count": 265,
   "id": "2318ae90",
   "metadata": {},
   "outputs": [
    {
     "data": {
      "image/png": "[encoded data removed]",
      "text/plain": [
       "<Figure size 432x288 with 1 Axes>"
      ]
     },
     "metadata": {
      "needs_background": "light"
     },
     "output_type": "display_data"
    }
   ],
   "source": [
    "plot.scatter(x,y)\n",
    "plot.show()"
   ]
  },
  {
   "cell_type": "markdown",
   "id": "1f376421",
   "metadata": {},
   "source": [
    "Das Problem ist, dass die Werte nicht gleichmäßig auf einer Skala von 06:00 bis 07:30 angezeigt werden. Die Zeitabstände wie 06:42 zu 06:43 haben ein gleiches Maß wie der Zeitabstand 06:21 zu 06:36.\n",
    "Ich werde die Zeitwerte in Dezimaldarstellung umwandeln. So ist dann bspw. 06:30 -> 06,50"
   ]
  },
  {
   "cell_type": "code",
   "execution_count": 266,
   "id": "74075256",
   "metadata": {},
   "outputs": [],
   "source": [
    "x2 = df['Startzeit'].str.split(':', expand=True )"
   ]
  },
  {
   "cell_type": "code",
   "execution_count": 267,
   "id": "9e13f230",
   "metadata": {},
   "outputs": [
    {
     "data": {
      "text/html": [
       "<div>\n",
       "<style scoped>\n",
       "    .dataframe tbody tr th:only-of-type {\n",
       "        vertical-align: middle;\n",
       "    }\n",
       "\n",
       "    .dataframe tbody tr th {\n",
       "        vertical-align: top;\n",
       "    }\n",
       "\n",
       "    .dataframe thead th {\n",
       "        text-align: right;\n",
       "    }\n",
       "</style>\n",
       "<table border=\"1\" class=\"dataframe\">\n",
       "  <thead>\n",
       "    <tr style=\"text-align: right;\">\n",
       "      <th></th>\n",
       "      <th>0</th>\n",
       "      <th>1</th>\n",
       "    </tr>\n",
       "  </thead>\n",
       "  <tbody>\n",
       "    <tr>\n",
       "      <th>7</th>\n",
       "      <td>06</td>\n",
       "      <td>13</td>\n",
       "    </tr>\n",
       "    <tr>\n",
       "      <th>3</th>\n",
       "      <td>06</td>\n",
       "      <td>21</td>\n",
       "    </tr>\n",
       "    <tr>\n",
       "      <th>10</th>\n",
       "      <td>06</td>\n",
       "      <td>36</td>\n",
       "    </tr>\n",
       "    <tr>\n",
       "      <th>6</th>\n",
       "      <td>06</td>\n",
       "      <td>41</td>\n",
       "    </tr>\n",
       "    <tr>\n",
       "      <th>1</th>\n",
       "      <td>06</td>\n",
       "      <td>42</td>\n",
       "    </tr>\n",
       "  </tbody>\n",
       "</table>\n",
       "</div>"
      ],
      "text/plain": [
       "     0   1\n",
       "7   06  13\n",
       "3   06  21\n",
       "10  06  36\n",
       "6   06  41\n",
       "1   06  42"
      ]
     },
     "execution_count": 267,
     "metadata": {},
     "output_type": "execute_result"
    }
   ],
   "source": [
    "x2.head()"
   ]
  },
  {
   "cell_type": "code",
   "execution_count": 271,
   "id": "2b551a45",
   "metadata": {},
   "outputs": [],
   "source": [
    "x2_m = x2[1].astype(int)\n",
    "x2_h = x2[0].astype(int)\n",
    "x2_m = round(x2_m*0.01666,2)\n",
    "x_whole = x2_h+x2_m"
   ]
  },
  {
   "cell_type": "code",
   "execution_count": 272,
   "id": "f9c786e7",
   "metadata": {},
   "outputs": [],
   "source": [
    "x_whole = x_whole.to_numpy()"
   ]
  },
  {
   "cell_type": "markdown",
   "id": "37c56100",
   "metadata": {},
   "source": [
    "nun haben wir ein gleichmäßige Skala von 6,2 - 7,0. Zudem können wir die float Werte ohne probleme der LinearRegression füttern."
   ]
  },
  {
   "cell_type": "code",
   "execution_count": 277,
   "id": "23148338",
   "metadata": {},
   "outputs": [
    {
     "data": {
      "image/png": "[encoded data removed]",
      "text/plain": [
       "<Figure size 432x288 with 1 Axes>"
      ]
     },
     "metadata": {
      "needs_background": "light"
     },
     "output_type": "display_data"
    }
   ],
   "source": [
    "plot.plot(x_whole.reshape(-1, 1), y)\n",
    "plot.show()"
   ]
  },
  {
   "cell_type": "code",
   "execution_count": 273,
   "id": "d424d2d8",
   "metadata": {},
   "outputs": [
    {
     "name": "stdout",
     "output_type": "stream",
     "text": [
      "[[6.7 ]\n",
      " [6.87]\n",
      " [6.6 ]\n",
      " [6.72]\n",
      " [6.35]\n",
      " [6.72]\n",
      " [6.75]\n",
      " [6.68]\n",
      " [6.22]\n",
      " [6.7 ]\n",
      " [7.02]]\n",
      "[49 50 47 47 43 48 47 47 40 47 55]\n"
     ]
    }
   ],
   "source": [
    "xTrain, xTest, yTrain, yTest = train_test_split(x_whole.reshape(-1, 1), y, test_size = 1/7, random_state = 0)\n",
    "print(xTrain)\n",
    "print(yTrain)"
   ]
  },
  {
   "cell_type": "code",
   "execution_count": 274,
   "id": "226cba15",
   "metadata": {},
   "outputs": [
    {
     "name": "stdout",
     "output_type": "stream",
     "text": [
      "LinearRegression()\n",
      "[48.1511985  52.24576779]\n"
     ]
    }
   ],
   "source": [
    "linearRegressor = LinearRegression()\n",
    "linearRegressor.fit(xTrain, yTrain)\n",
    "print(linearRegressor)\n",
    "yPrediction = linearRegressor.predict(xTest)\n",
    "print(yPrediction)"
   ]
  },
  {
   "cell_type": "code",
   "execution_count": 275,
   "id": "f2133a60",
   "metadata": {},
   "outputs": [
    {
     "data": {
      "image/png": "[encoded data removed]",
      "text/plain": [
       "<Figure size 432x288 with 1 Axes>"
      ]
     },
     "metadata": {
      "needs_background": "light"
     },
     "output_type": "display_data"
    },
    {
     "data": {
      "image/png": "[encoded data removed]",
      "text/plain": [
       "<Figure size 432x288 with 1 Axes>"
      ]
     },
     "metadata": {
      "needs_background": "light"
     },
     "output_type": "display_data"
    }
   ],
   "source": [
    "plot.scatter(xTrain, yTrain, color = 'red')\n",
    "plot.plot(xTrain, linearRegressor.predict(xTrain), color = 'blue')\n",
    "plot.title('Fahrzeit (Trainingsatz)')\n",
    "plot.xlabel('Abfahrt in Dezimal')\n",
    "plot.ylabel('Dauer')\n",
    "plot.show()\n",
    "plot.scatter(xTest, yTest, color = 'red')\n",
    "plot.plot(xTrain, linearRegressor.predict(xTrain), color = 'blue')\n",
    "plot.title('Fahrzeit (Testsatz)')\n",
    "plot.xlabel('Abfahrt in Dezimal')\n",
    "plot.ylabel('Dauer')\n",
    "plot.show()"
   ]
  },
  {
   "cell_type": "markdown",
   "id": "1064a7e2",
   "metadata": {},
   "source": [
    "Im Grunde lässt sich erkennen, dass in der Abfahrtszeit von 06:00-7:00 Uhr, das frühe Losfahren auch eine kürzere Fahrtzeit bedeutet. Das hängt mit folgenden Ursachen zusammen: Zum einen Berufsverkehr, die um 08:00 beginnen, zum Anderen viele Schulstraßen die das Tempolimit auf 30 km/h ab 07:00 Uhr begrenzen."
   ]
  },
  {
   "cell_type": "markdown",
   "id": "10e6d7ae",
   "metadata": {},
   "source": [
    "Nichtsdestotrotz gibt es größere Abweichungen die immer wieder vorkommen. "
   ]
  },
  {
   "cell_type": "code",
   "execution_count": null,
   "id": "6c819997",
   "metadata": {},
   "outputs": [],
   "source": []
  }
 ],
 "metadata": {
  "kernelspec": {
   "display_name": "Python 3",
   "language": "python",
   "name": "python3"
  },
  "language_info": {
   "codemirror_mode": {
    "name": "ipython",
    "version": 3
   },
   "file_extension": ".py",
   "mimetype": "text/x-python",
   "name": "python",
   "nbconvert_exporter": "python",
   "pygments_lexer": "ipython3",
   "version": "3.8.8"
  }
 },
 "nbformat": 4,
 "nbformat_minor": 5
}
